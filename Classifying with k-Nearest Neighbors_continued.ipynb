{
 "cells": [
  {
   "cell_type": "code",
   "execution_count": 21,
   "metadata": {},
   "outputs": [],
   "source": [
    "from numpy import *\n",
    "from os import listdir \n",
    "import operator"
   ]
  },
  {
   "cell_type": "markdown",
   "metadata": {},
   "source": [
    "### Example: a handwriting recognition system\n",
    "\n",
    "Now let's see how to apply kNN to things as diverse as images where the data is in binary form. \n",
    "\n",
    "We’ll be working only with the digits 0–9. These digits were processed through image-processing software to make them all the same size and color. The dataset is a modified version of the “Optical Recognition of Handwritten Digits Data Set” by E. Alpaydin, C. Kaynak, Department of Computer Engineering at Bogazici University, 80815 Istanbul Turkey, retrieved from the UCI Machine Learning Repository (http://archive.ics.uci.edu/ml) on October 3, 2010.\n",
    "\n",
    "They’re all 32x32 black and white. The binary images were converted to text format to make this example easier, although it isn’t the most efficient use of memory.\n",
    "\n",
    "> Example: using kNN on a handwriting recognition system\n",
    " > 1. Collect: Text file provided.\n",
    " > 2. Prepare: Write a function to convert from the image format to the list format  used in our classifier, classifyNum().\n",
    " > 3. Analyze: We’ll look at the prepared data in the Python shell to make sure it’s correct. \n",
    " > 4. Train: Doesn’t apply to the kNN algorithm.\n",
    " > 5. Test: Write a function to use some portion of the data as test examples. The test examples are classified against the non-test examples. If the predicted class doesn’t match the real class, we’ll count that as an error.\n",
    " > 6. Use: Not performed in this example. We could build a complete program to extract digits from an image, such a system used to sort the mail in the United States"
   ]
  },
  {
   "cell_type": "markdown",
   "metadata": {},
   "source": [
    "##### Step 1: Prepare: converting images into test vectors\n",
    "\n",
    "We’ll use the trainingDigits directory to train our classifier and testDigits to test it. There’ll be no overlap between the two groups.\n",
    "\n",
    "We’d like to use the same classifier that we used in the previous two examples, so we’re going to need to reformat the images to a single vector. \n",
    "\n",
    "We’ll take the 32x32 matrix that is each binary image and make it a 1x1024 vector. After we do this, we can apply it to our existing classifier. \n",
    "\n",
    "The following code is a small function called `img2vector`, which converts the image to a vector. The function creates a 1x1024 NumPy array, then opens the given file, loops over the first 32 lines in the file, and stores the integer value of the first 32 characters on each line in the NumPy array. This array is finally returned."
   ]
  },
  {
   "cell_type": "code",
   "execution_count": 1,
   "metadata": {},
   "outputs": [],
   "source": [
    "def img2vector(filename):\n",
    "    returnVect = zeros((1,1024))\n",
    "    fr = open(filename)\n",
    "    for i in range(32):\n",
    "        lineStr = fr.readline()\n",
    "        for j in range(32):\n",
    "            returnVect[0, 32*i+j] = int(lineStr[j])\n",
    "    return returnVect"
   ]
  },
  {
   "cell_type": "code",
   "execution_count": 6,
   "metadata": {},
   "outputs": [
    {
     "data": {
      "text/plain": [
       "array([0., 0., 0., 0., 0., 0., 0., 0., 0., 0., 0., 0., 0., 0., 1., 1., 1.,\n",
       "       1., 0., 0., 0., 0., 0., 0., 0., 0., 0., 0., 0., 0., 0.])"
      ]
     },
     "execution_count": 6,
     "metadata": {},
     "output_type": "execute_result"
    }
   ],
   "source": [
    "testVector = img2vector('Machine_Learning_In_Action/testDigits/0_13.txt')\n",
    "\n",
    "testVector[0,0:31]"
   ]
  },
  {
   "cell_type": "markdown",
   "metadata": {},
   "source": [
    "##### Step 2: Test: kNN on handwritten digits"
   ]
  },
  {
   "cell_type": "code",
   "execution_count": 8,
   "metadata": {},
   "outputs": [],
   "source": [
    "# import the same classifyKNN() function from the first notebook\n",
    "def classifyKNN(inX, dataSet, labels, k):\n",
    "    dataSetSize = dataSet.shape[0]\n",
    "    diffMat = tile(inX, (dataSetSize, 1)) - dataSet\n",
    "    sqDiffMat = diffMat ** 2\n",
    "    sqDistances = sqDiffMat.sum(axis = 1)\n",
    "    distances = sqDistances ** 0.5\n",
    "    sortedDisIndicies = distances.argsort()\n",
    "    classCount = {}\n",
    "    for i in range(k):\n",
    "        voteIlabel = labels[sortedDisIndicies[i]]\n",
    "        classCount[voteIlabel] = classCount.get(voteIlabel, 0) + 1\n",
    "    sortedClassCount = sorted(classCount.items(), key = operator.itemgetter(1), reverse = True)\n",
    "    return sortedClassCount[0][0]"
   ]
  },
  {
   "cell_type": "code",
   "execution_count": 27,
   "metadata": {},
   "outputs": [],
   "source": [
    "def handwritingClassTest():\n",
    "    # get contents from the training directory\n",
    "    hwLabels = []\n",
    "    trainingFileList = listdir('Machine_Learning_In_Action/trainingDigits')   \n",
    "    m = len(trainingFileList)\n",
    "    trainingMat = zeros((m,1024))\n",
    "    for i in range(m):\n",
    "        fileNameStr = trainingFileList[i]        \n",
    "        fileStr = fileNameStr.split('.')[0]             \n",
    "        classNumStr = int(fileStr.split('_')[0]) \n",
    "        hwLabels.append(classNumStr)\n",
    "        trainingMat[i,:] = img2vector('Machine_Learning_In_Action/trainingDigits/%s' % fileNameStr)\n",
    "    \n",
    "    # get contents from the test directory\n",
    "    testFileList = listdir('Machine_Learning_In_Action/testDigits')\n",
    "    errorCount = 0.0\n",
    "    mTest = len(testFileList)\n",
    "    errorFileLocation = []\n",
    "    for i in range(mTest):\n",
    "        fileNameStr = testFileList[i]\n",
    "        fileStr = fileNameStr.split('.')[0]\n",
    "        classNumStr = int(fileStr.split('_')[0])\n",
    "        vectorUnderTest = img2vector('Machine_Learning_In_Action/testDigits/%s' % fileNameStr)\n",
    "        classifierResult = classifyKNN(vectorUnderTest, trainingMat, hwLabels, 3)\n",
    "        # Personally I don't want the following print command, since I don't want to see all details\n",
    "#         print(\"the classifier came back with: %d, the real answer is: %d\" % (classifierResult, classNumStr))\n",
    "        # so here I only show this message while the prediction is wrong\n",
    "        if (classifierResult != classNumStr): \n",
    "            errorCount += 1.0\n",
    "            errorFileLocation.append(i)\n",
    "            print(\"the classifier came back with: %d, the real answer is: %d\" % (classifierResult, classNumStr))\n",
    "    print(\"\\nthe total number of errors is: %d\" % errorCount)\n",
    "    print(\"\\nthe total error rate is: %f\" % (errorCount/float(mTest)))\n",
    "    return errorFileLocation"
   ]
  },
  {
   "cell_type": "code",
   "execution_count": 14,
   "metadata": {},
   "outputs": [],
   "source": [
    "# Now let's dive into the function before running it as a whole\n",
    "# see how many training and test images\n",
    "trainingFileList = listdir('Machine_Learning_In_Action/trainingDigits')  "
   ]
  },
  {
   "cell_type": "code",
   "execution_count": 15,
   "metadata": {},
   "outputs": [
    {
     "data": {
      "text/plain": [
       "1934"
      ]
     },
     "execution_count": 15,
     "metadata": {},
     "output_type": "execute_result"
    }
   ],
   "source": [
    "len(trainingFileList)"
   ]
  },
  {
   "cell_type": "code",
   "execution_count": 16,
   "metadata": {},
   "outputs": [],
   "source": [
    "testFileList = listdir('Machine_Learning_In_Action/testDigits')"
   ]
  },
  {
   "cell_type": "code",
   "execution_count": 17,
   "metadata": {},
   "outputs": [
    {
     "data": {
      "text/plain": [
       "946"
      ]
     },
     "execution_count": 17,
     "metadata": {},
     "output_type": "execute_result"
    }
   ],
   "source": [
    "len(testFileList)"
   ]
  },
  {
   "cell_type": "code",
   "execution_count": 18,
   "metadata": {},
   "outputs": [
    {
     "data": {
      "text/plain": [
       "['0_0.txt', '0_1.txt', '0_10.txt']"
      ]
     },
     "execution_count": 18,
     "metadata": {},
     "output_type": "execute_result"
    }
   ],
   "source": [
    "trainingFileList[:3]\n",
    "# The filename is something like 9_45.txt, where 9 is the class number and it is the 45th instance of the digit 9. "
   ]
  },
  {
   "cell_type": "code",
   "execution_count": 28,
   "metadata": {},
   "outputs": [
    {
     "name": "stdout",
     "output_type": "stream",
     "text": [
      "the classifier came back with: 7, the real answer is: 1\n",
      "the classifier came back with: 9, the real answer is: 3\n",
      "the classifier came back with: 3, the real answer is: 5\n",
      "the classifier came back with: 6, the real answer is: 5\n",
      "the classifier came back with: 6, the real answer is: 8\n",
      "the classifier came back with: 3, the real answer is: 8\n",
      "the classifier came back with: 1, the real answer is: 8\n",
      "the classifier came back with: 1, the real answer is: 8\n",
      "the classifier came back with: 1, the real answer is: 9\n",
      "the classifier came back with: 7, the real answer is: 9\n",
      "\n",
      "the total number of errors is: 10\n",
      "\n",
      "the total error rate is: 0.010571\n"
     ]
    }
   ],
   "source": [
    "errorFileLocation = handwritingClassTest()"
   ]
  },
  {
   "cell_type": "code",
   "execution_count": 25,
   "metadata": {},
   "outputs": [
    {
     "data": {
      "text/plain": [
       "[172, 279, 520, 521, 769, 782, 796, 806, 863, 914]"
      ]
     },
     "execution_count": 25,
     "metadata": {},
     "output_type": "execute_result"
    }
   ],
   "source": [
    "errorFileLocation"
   ]
  },
  {
   "cell_type": "code",
   "execution_count": 26,
   "metadata": {},
   "outputs": [
    {
     "data": {
      "text/plain": [
       "'1_86.txt'"
      ]
     },
     "execution_count": 26,
     "metadata": {},
     "output_type": "execute_result"
    }
   ],
   "source": [
    "testFileList[172]"
   ]
  },
  {
   "cell_type": "markdown",
   "metadata": {},
   "source": [
    "Using the kNN algorithm on this dataset, we were able to achieve an error rate of 1.05%.\n",
    "\n",
    "### Next Steps\n",
    "\n",
    "We can \n",
    "- vary k to see how this changes\n",
    "- modify the handwritingClassTest() function to randomly select training examples, i.e., vary the number of training examples and see how that impacts the error rate\n",
    "- apply kD-trees, a modification of kNN, which reduces the number of calculations."
   ]
  },
  {
   "cell_type": "markdown",
   "metadata": {},
   "source": [
    "### Summary\n",
    "\n",
    "The k-Nearest Neighbors algorithm is a simple and effective way to classify data. The examples in this chapter should be evidence of how powerful a classifier it is. \n",
    "\n",
    "kNN is an example of instance-based learning, where we need to have instances of data close at hand to perform the machine learning algorithm. The algorithm has to carry around the full dataset; for large datasets, this implies a large amount of storage. In addition, we need to calculate the distance measurement for every piece of data in the database, and this can be cumbersome. \n",
    "\n",
    "An additional drawback is that kNN doesn’t give us any idea of the underlying structure of the data; we have no idea what an *average* or *exemplar* instance from each class looks like. \n",
    "\n",
    "In the next chapter, we’ll address this issue by exploring ways in which probability measurements can help us do classification."
   ]
  },
  {
   "cell_type": "code",
   "execution_count": null,
   "metadata": {},
   "outputs": [],
   "source": []
  },
  {
   "cell_type": "code",
   "execution_count": null,
   "metadata": {},
   "outputs": [],
   "source": []
  }
 ],
 "metadata": {
  "kernelspec": {
   "display_name": "Python 3",
   "language": "python",
   "name": "python3"
  },
  "language_info": {
   "codemirror_mode": {
    "name": "ipython",
    "version": 3
   },
   "file_extension": ".py",
   "mimetype": "text/x-python",
   "name": "python",
   "nbconvert_exporter": "python",
   "pygments_lexer": "ipython3",
   "version": "3.8.5"
  }
 },
 "nbformat": 4,
 "nbformat_minor": 4
}
